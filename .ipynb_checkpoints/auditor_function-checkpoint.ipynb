{
 "cells": [
  {
   "cell_type": "code",
   "execution_count": 4,
   "metadata": {},
   "outputs": [],
   "source": [
    "import pandas as pd"
   ]
  },
  {
   "cell_type": "code",
   "execution_count": 8,
   "metadata": {},
   "outputs": [],
   "source": [
    "#create a function with parameters to include original file, a place to save any duplicates\n",
    "#a new file for the original minus the duplicates and the field you are interested in finding\n",
    "#duplicates in\n",
    "def csv_auditor(input_file, duplicate_file, output_file, field):\n",
    "\n",
    "#this reads the csv as a dataframe\n",
    "    old_df = pd.read_csv(f'{input_file}')\n",
    "\n",
    "#this finds all the duplicates based on the field of interest, the default is keeping the first\n",
    "    dups = old_df[old_df.duplicated([f'{field}'])]\n",
    "\n",
    "#this writes those duplicates to a csv file determined above\n",
    "    dups.to_csv(f'{duplicate_file}')\n",
    "\n",
    "#this creates the new file while dropping every duplicate except for the first time that\n",
    "#the duplicate occurs\n",
    "    newdf = pd.read_csv(f'{input_file}').drop_duplicates(subset = [f'{field}'],\n",
    "                                               keep='first')\n",
    "#this writes the new dif to a csv with no duplicates\n",
    "    no_dup = newdf.to_csv(output_file, index=False) "
   ]
  },
  {
   "cell_type": "code",
   "execution_count": 12,
   "metadata": {},
   "outputs": [],
   "source": [
    "file = r'C:\\Users\\schoo\\Documents\\GIS_Python\\Python_Programming\\pyfinal\\Book1.csv'\n",
    "output_file = r'C:\\Users\\schoo\\Documents\\GIS_Python\\Python_Programming\\csv-database-auditor\\no_duplicates_name.csv'\n",
    "duplicate_file = r'C:\\Users\\schoo\\Documents\\GIS_Python\\Python_Programming\\csv-database-auditor\\duplicates_name.csv'\n",
    "field = 'NAME'"
   ]
  },
  {
   "cell_type": "code",
   "execution_count": 13,
   "metadata": {},
   "outputs": [],
   "source": [
    "csv_auditor(file,duplicate_file,output_file,field)"
   ]
  },
  {
   "cell_type": "code",
   "execution_count": null,
   "metadata": {},
   "outputs": [],
   "source": []
  }
 ],
 "metadata": {
  "kernelspec": {
   "display_name": "Python 3",
   "language": "python",
   "name": "python3"
  },
  "language_info": {
   "codemirror_mode": {
    "name": "ipython",
    "version": 3
   },
   "file_extension": ".py",
   "mimetype": "text/x-python",
   "name": "python",
   "nbconvert_exporter": "python",
   "pygments_lexer": "ipython3",
   "version": "3.6.10"
  }
 },
 "nbformat": 4,
 "nbformat_minor": 4
}
