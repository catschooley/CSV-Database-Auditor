{
 "cells": [
  {
   "cell_type": "code",
   "execution_count": 1,
   "metadata": {},
   "outputs": [],
   "source": [
    "import pandas as pd"
   ]
  },
  {
   "cell_type": "code",
   "execution_count": 25,
   "metadata": {},
   "outputs": [],
   "source": [
    "file = r'C:\\Users\\schoo\\Documents\\GIS_Python\\Python_Programming\\pyfinal\\Book1.csv'\n",
    "output_file = r'C:\\Users\\schoo\\Documents\\GIS_Python\\Python_Programming\\pyfinal\\no_duplicates.csv'\n",
    "duplicate_file = r'C:\\Users\\schoo\\Documents\\GIS_Python\\Python_Programming\\pyfinal\\duplicates.csv'\n",
    "field = 'OBJECTID'"
   ]
  },
  {
   "cell_type": "code",
   "execution_count": 26,
   "metadata": {},
   "outputs": [],
   "source": [
    "old_df = pd.read_csv(f'{file}')"
   ]
  },
  {
   "cell_type": "code",
   "execution_count": 27,
   "metadata": {},
   "outputs": [],
   "source": [
    "dups = old_df[old_df.duplicated([f'{field}'])]"
   ]
  },
  {
   "cell_type": "code",
   "execution_count": 28,
   "metadata": {},
   "outputs": [],
   "source": [
    "dups.to_csv(f'{duplicate_file}')"
   ]
  },
  {
   "cell_type": "code",
   "execution_count": 29,
   "metadata": {},
   "outputs": [],
   "source": [
    "newdf = pd.read_csv(f'{file}').drop_duplicates(subset = [f'{field}'],\n",
    "                                               keep='first')\n",
    "no_dup = df.to_csv(output_file, index=False) "
   ]
  },
  {
   "cell_type": "code",
   "execution_count": 30,
   "metadata": {},
   "outputs": [
    {
     "name": "stdout",
     "output_type": "stream",
     "text": [
      "    OBJECTID     NAME        DATE      X      Y\n",
      "0          1    first  11/24/2020  41.44  111.5\n",
      "1          2   second  11/25/2020  41.44  111.5\n",
      "2          3    third  11/26/2020  41.44  111.5\n",
      "3          4   fourth  11/27/2020  41.44  111.5\n",
      "4          5    fifth  11/28/2020  41.44  111.5\n",
      "5          6    sixth  11/29/2020  41.44  111.5\n",
      "6          7  seventh  11/30/2020  41.44  111.5\n",
      "7          8   eighth   12/1/2020  41.44  111.5\n",
      "8          8   eighth   12/2/2020  41.44  111.5\n",
      "9          6    sixth   12/3/2020  41.44  111.5\n",
      "10         6    sixth   12/4/2020  41.44  111.5\n",
      "11         2   second   12/5/2020  41.44  111.5\n",
      "12         9    ninth   12/6/2020  41.44  111.5\n"
     ]
    }
   ],
   "source": [
    "print(olddf)"
   ]
  },
  {
   "cell_type": "code",
   "execution_count": 31,
   "metadata": {},
   "outputs": [
    {
     "name": "stdout",
     "output_type": "stream",
     "text": [
      "    OBJECTID    NAME       DATE      X      Y\n",
      "8          8  eighth  12/2/2020  41.44  111.5\n",
      "9          6   sixth  12/3/2020  41.44  111.5\n",
      "10         6   sixth  12/4/2020  41.44  111.5\n",
      "11         2  second  12/5/2020  41.44  111.5\n"
     ]
    }
   ],
   "source": [
    "print(dups)"
   ]
  },
  {
   "cell_type": "code",
   "execution_count": 32,
   "metadata": {},
   "outputs": [
    {
     "name": "stdout",
     "output_type": "stream",
     "text": [
      "    OBJECTID     NAME        DATE      X      Y\n",
      "0          1    first  11/24/2020  41.44  111.5\n",
      "1          2   second  11/25/2020  41.44  111.5\n",
      "2          3    third  11/26/2020  41.44  111.5\n",
      "3          4   fourth  11/27/2020  41.44  111.5\n",
      "4          5    fifth  11/28/2020  41.44  111.5\n",
      "5          6    sixth  11/29/2020  41.44  111.5\n",
      "6          7  seventh  11/30/2020  41.44  111.5\n",
      "7          8   eighth   12/1/2020  41.44  111.5\n",
      "12         9    ninth   12/6/2020  41.44  111.5\n"
     ]
    }
   ],
   "source": [
    "print(newdf)"
   ]
  },
  {
   "cell_type": "code",
   "execution_count": null,
   "metadata": {},
   "outputs": [],
   "source": []
  }
 ],
 "metadata": {
  "kernelspec": {
   "display_name": "Python 3",
   "language": "python",
   "name": "python3"
  },
  "language_info": {
   "codemirror_mode": {
    "name": "ipython",
    "version": 3
   },
   "file_extension": ".py",
   "mimetype": "text/x-python",
   "name": "python",
   "nbconvert_exporter": "python",
   "pygments_lexer": "ipython3",
   "version": "3.6.10"
  }
 },
 "nbformat": 4,
 "nbformat_minor": 4
}
